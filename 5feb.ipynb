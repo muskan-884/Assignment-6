{
 "cells": [
  {
   "cell_type": "code",
   "execution_count": 1,
   "id": "8b426fb6-bbdc-4359-a29d-b108c1e8436c",
   "metadata": {},
   "outputs": [],
   "source": [
    " Q1. Explain Class and Object with respect to Object-Oriented Programming. Give a suitable example."
   ]
  },
  {
   "cell_type": "code",
   "execution_count": 2,
   "id": "14e1bd15-1777-4745-a3f4-ad7328a5e073",
   "metadata": {},
   "outputs": [
    {
     "name": "stdout",
     "output_type": "stream",
     "text": [
      "Name: Mountain Bike, Gears: 11 \n"
     ]
    }
   ],
   "source": [
    "Python Classes\n",
    "A class is considered as a blueprint of objects. We can think of the class as a sketch (prototype) of a house. It contains all the details about the floors, doors, windows, etc. Based on these descriptions we build the house. House is the object.\n",
    "\n",
    "Since many houses can be made from the same description, we can create many objects from a class.\n",
    "Define Python Class\n",
    "We use the class keyword to create a class in Python. For example,\n",
    "\n",
    "class ClassName:\n",
    "    # class definition \n",
    "Here, we have created a class named ClassName.\n",
    "Let's see an example,\n",
    "\n",
    "class Bike:\n",
    "    name = \"\"\n",
    "    gear = 0\n",
    "    \n",
    "\n",
    "Python Objects\n",
    "An object is called an instance of a class. For example, suppose Bike is a class then we can create objects like bike1, bike2, etc from the class.\n",
    "\n",
    "Here's the syntax to create an object.\n",
    "\n",
    "objectName = ClassName()\n",
    "Let's see an example,\n",
    "\n",
    "# create class\n",
    "class Bike:\n",
    "    name = \"\"\n",
    "    gear = 0\n",
    "\n",
    "# create objects of class\n",
    "bike1 = Bike()\n",
    "Here, bike1 is the object of the class. Now, we can use this object to access the class attributes.\n",
    "define a class\n",
    "class Bike:\n",
    "    name = \"\"\n",
    "    gear = 0\n",
    "\n",
    "# create object of class\n",
    "bike1 = Bike()\n",
    "\n",
    "# access attributes and assign new values\n",
    "bike1.gear = 11\n",
    "bike1.name = \"Mountain Bike\"\n",
    "\n",
    "print(f\"Name: {bike1.name}, Gears: {bike1.gear} \")\n"
   ]
  },
  {
   "cell_type": "code",
   "execution_count": 3,
   "id": "44bd246b-ba31-4d4c-a7b9-c4d01caf78d0",
   "metadata": {},
   "outputs": [],
   "source": [
    "Q2. Name the four pillars of OOPs.\n",
    " \n",
    "Four pillars of OOps are:\n",
    "    1.Polymorphism\n",
    "    2.Encapsulation\n",
    "    3.Inheritance\n",
    "    4.Abstraction\n",
    "        \n"
   ]
  },
  {
   "cell_type": "code",
   "execution_count": 5,
   "id": "eedf27c7-53be-444c-9a94-5f1ceaaef0c5",
   "metadata": {},
   "outputs": [
    {
     "name": "stdout",
     "output_type": "stream",
     "text": [
      "I am earth\n",
      "I am the 3 planet in the solar system\n"
     ]
    }
   ],
   "source": [
    "Q3. Explain why the __init__() function is used. Give a suitable example.\n",
    "\n",
    "If you have been working with the Object-oriented programming, you might have come across _init_ word quite a few times. __init__ is a Python method. It is similar to the constructors in languages like Java and C++. \n",
    "Knowing classes and objects in Python will make the __init__ method understandable.\n",
    "1.It is a constructor, allowing a class to hold objects with different values.\n",
    "We need not call it like we call a normal method. It is similar to a method inside a class.\n",
    "2.It is executed as soon as an object is created for the class.\n",
    "The __init__ method is the Python equivalent of the C++ constructor in an object-oriented approach. \n",
    "The __init__  function is called every time an object is created from a class. The __init__ method lets the class initialize the object’s attributes and serves no other purpose. It is only used within classes. \n",
    "\n",
    "class planet:  \n",
    "    def __init__ (self, name, number):  \n",
    "        self. name = name  \n",
    "        self. number = number  \n",
    "    def function (self):  \n",
    "        print (\"I am\", self. name)  \n",
    "        print (\"I am the\", self. number, \"planet in the solar system\")  \n",
    "          \n",
    "earth = planet ('earth', 3)  \n",
    "earth. function ()  "
   ]
  },
  {
   "cell_type": "code",
   "execution_count": 1,
   "id": "46211e71-d072-4892-8b0c-08144eb3d92c",
   "metadata": {},
   "outputs": [],
   "source": [
    "Q4. Why self is used in OOPs?\n",
    "The self is used to represent the instance of the class. \n",
    "With this keyword, you can access the attributes and methods of the class in python. \n",
    "It binds the attributes with the given arguments. The reason why we use self is that Python does not use the ‘@’ syntax to refer to instance attributes. Join our Master Python programming course to know more. In Python, we have methods that make the instance to be passed automatically, but not received automatically.\n",
    "\n",
    "Example:\n",
    "\n",
    "class food():\n",
    "    \n",
    " \n",
    "#init method or constructor\n",
    " def __init__(self, fruit, color):\n",
    "    self.fruit = fruit\n",
    "    self.color = color\n",
    " \n",
    " def show(self):\n",
    "    print(\"fruit is\", self.fruit)\n",
    "    print(\"color is\", self.color )\n",
    " \n",
    "    \n"
   ]
  },
  {
   "cell_type": "code",
   "execution_count": 3,
   "id": "89ef09ab-846d-44d2-b136-fce950cf334b",
   "metadata": {},
   "outputs": [],
   "source": [
    "#Object Created\n",
    "obj1 = food(\"apple\", \"red\")\n",
    "obj2 = food(\"grapes\", \"green\")\n",
    " "
   ]
  },
  {
   "cell_type": "code",
   "execution_count": 4,
   "id": "602dcafe-3a3e-45cf-be43-7eabfb258a0c",
   "metadata": {},
   "outputs": [
    {
     "name": "stdout",
     "output_type": "stream",
     "text": [
      "fruit is apple\n",
      "color is red\n"
     ]
    }
   ],
   "source": [
    "obj1.show()"
   ]
  },
  {
   "cell_type": "code",
   "execution_count": 5,
   "id": "99dd2a5b-9f8d-40ce-b06a-4ecaffe08104",
   "metadata": {},
   "outputs": [],
   "source": [
    "Q5. What is inheritance? Give an example for each type of inheritance.\n",
    "Inheritance is the process of object of one class acquired the feature and Behaviour of Object of Another Class.\n",
    "Inheritance is the process of child class or derived class inherit the Property of parent class or Base class.\n",
    "Inheritance is an important aspect of the object-oriented paradigm. Inheritance provides code reusability to the program because we can use an existing class to create a new class instead of creating it from scratch.\n",
    "\n",
    "In inheritance, the child class acquires the properties and can access all the data members and functions defined in the parent class. A child class can also provide its specific implementation to the functions of the parent class. In this section of the tutorial, we will discuss inheritance in detail.\n",
    "\n",
    "In python, a derived class can inherit base class by just mentioning the base in the bracket after the derived class name. Consider the following syntax to inherit a base class into the derived class.\n",
    "\n",
    "Python Inheritance Syntax\n",
    "Here's the syntax of the inheritance in Python,\n",
    "\n",
    "# define a superclass\n",
    "class super_class:\n",
    "    # attributes and method definition\n",
    "\n",
    "# inheritance\n",
    "class sub_class(super_class):\n",
    "    # attributes and method of super_class\n",
    "    # attributes and method of sub_class\n",
    "Here, we are inheriting the sub_class class from the super_class class.\n"
   ]
  },
  {
   "cell_type": "code",
   "execution_count": 6,
   "id": "fcc3ea0b-7586-42ef-adf7-975101297154",
   "metadata": {},
   "outputs": [],
   "source": [
    "\"Types of Inheritance in Python\"\n",
    "\n",
    "The types of inheritance depend on the number of children and parents involved. \n",
    "There are four kinds of inheritance available in Python:\n",
    "1.Single Inheritance\n",
    "2.Multilevel Inheritance \n",
    "3.Multiple Inheritance \n",
    "4.Hierarchical Inheritance "
   ]
  },
  {
   "cell_type": "code",
   "execution_count": 7,
   "id": "56ca7250-dbbf-4935-b7c7-4e60da6e190c",
   "metadata": {},
   "outputs": [],
   "source": [
    "1.Single Inheritance: \n",
    "    Single inheritance allows a derivate class to inherit properties of one parent class, \n",
    "    and this allows code reuse and the introduction of additional features in existing code.\n"
   ]
  },
  {
   "cell_type": "code",
   "execution_count": 9,
   "id": "2b6e23fa-4430-4bd9-bd3d-8c5ceafc9b8a",
   "metadata": {},
   "outputs": [],
   "source": [
    "EXAMPLE OF SINGLE INHERITANCE:\n",
    "class A:\n",
    "    def funcA(self):\n",
    "        print(\"I am Member of Class A\")\n",
    "class B(A):\n",
    "    def funcB(self):\n",
    "        print(\"I am Member of Class B\")\n",
    "    "
   ]
  },
  {
   "cell_type": "code",
   "execution_count": 10,
   "id": "6e56bcf6-a4aa-4848-866c-c8fe25367347",
   "metadata": {},
   "outputs": [],
   "source": [
    "b=B()"
   ]
  },
  {
   "cell_type": "code",
   "execution_count": 11,
   "id": "4d60a365-c29b-4254-bad0-afdcf2297582",
   "metadata": {},
   "outputs": [
    {
     "name": "stdout",
     "output_type": "stream",
     "text": [
      "I am Member of Class A\n"
     ]
    }
   ],
   "source": [
    "b.funcA()"
   ]
  },
  {
   "cell_type": "code",
   "execution_count": 12,
   "id": "f4153f50-18ee-4a40-a736-7ff1bc5b82b8",
   "metadata": {},
   "outputs": [
    {
     "name": "stdout",
     "output_type": "stream",
     "text": [
      "I am Member of Class B\n"
     ]
    }
   ],
   "source": [
    "b.funcB()"
   ]
  },
  {
   "cell_type": "code",
   "execution_count": 13,
   "id": "f19ca39a-124a-4dbf-8287-94d4243edf61",
   "metadata": {},
   "outputs": [],
   "source": [
    "2. MultiLevel Inheritance:\n",
    "It is a process of derived class inherit the property and behaviour of another derived class.\n",
    "Python facilitates inheritance of a derived class from its base class as well as inheritance of a derived class from another derived class.\n",
    "The inheritance of a derived class from another derived class is called as multilevel inheritance in Python, which is possible to any level."
   ]
  },
  {
   "cell_type": "code",
   "execution_count": 14,
   "id": "78e0808d-a4c5-4a7d-9aef-9cc1e01bf671",
   "metadata": {},
   "outputs": [],
   "source": [
    "EXAMPLE OF MULTILEVEL INHERITANCE\n",
    "class A:\n",
    "    def funcA(self):\n",
    "        print(\"Function of Class A\")\n",
    "class B(A):\n",
    "    def funcB(self):\n",
    "        print(\"Function of Class B\")\n",
    "class C(B):\n",
    "    def funcC(self):\n",
    "        print(\"Function of Class C\")\n",
    "    \n",
    "    "
   ]
  },
  {
   "cell_type": "code",
   "execution_count": 15,
   "id": "09f941bc-7a43-4fdc-b1ff-cb07ba485d57",
   "metadata": {},
   "outputs": [],
   "source": [
    "c=C()"
   ]
  },
  {
   "cell_type": "code",
   "execution_count": 16,
   "id": "d0ff89ab-758f-4e5a-a6c4-cbbd1428c1ba",
   "metadata": {},
   "outputs": [
    {
     "name": "stdout",
     "output_type": "stream",
     "text": [
      "Function of Class C\n"
     ]
    }
   ],
   "source": [
    "c.funcC()"
   ]
  },
  {
   "cell_type": "code",
   "execution_count": 17,
   "id": "aaafd118-452a-493f-9e2b-60f1be81be74",
   "metadata": {},
   "outputs": [
    {
     "name": "stdout",
     "output_type": "stream",
     "text": [
      "Function of Class B\n"
     ]
    }
   ],
   "source": [
    "c.funcB()"
   ]
  },
  {
   "cell_type": "code",
   "execution_count": 18,
   "id": "847ee6be-fe6e-4c13-ae78-f67e84c0e984",
   "metadata": {},
   "outputs": [
    {
     "name": "stdout",
     "output_type": "stream",
     "text": [
      "Function of Class A\n"
     ]
    }
   ],
   "source": [
    "c.funcA()"
   ]
  },
  {
   "cell_type": "code",
   "execution_count": 19,
   "id": "640e4340-6fae-4173-98b5-580c91c5aa44",
   "metadata": {},
   "outputs": [],
   "source": [
    "3.Multiple Inheritance \n",
    "When a class is derived from more than one base class it is called multiple Inheritance. \n",
    "The derived class inherits all the features of the base case."
   ]
  },
  {
   "cell_type": "code",
   "execution_count": 20,
   "id": "87d3ca06-8153-48b3-addc-17be00f3bd70",
   "metadata": {},
   "outputs": [],
   "source": [
    "#Example of Multiple Inheritance\n",
    "class A:\n",
    "    def funcA(self):\n",
    "        print(\"Function of Class A\")\n",
    "class B():\n",
    "    def funcB(self):\n",
    "        print(\"Function of Class B\")\n",
    "class C(A,B):\n",
    "    def funcC(self):\n",
    "        print(\"Function of Class C\")\n",
    "    "
   ]
  },
  {
   "cell_type": "code",
   "execution_count": 21,
   "id": "2333767f-6520-4b9e-bf09-89d79d09ef26",
   "metadata": {},
   "outputs": [],
   "source": [
    "c=C()"
   ]
  },
  {
   "cell_type": "code",
   "execution_count": 22,
   "id": "30a1935b-b3d3-4ac1-9c6f-1d51cd568143",
   "metadata": {},
   "outputs": [
    {
     "name": "stdout",
     "output_type": "stream",
     "text": [
      "Function of Class C\n"
     ]
    }
   ],
   "source": [
    "c.funcC()"
   ]
  },
  {
   "cell_type": "code",
   "execution_count": 23,
   "id": "123f4373-a850-4f20-8b7b-47039ccc4841",
   "metadata": {},
   "outputs": [
    {
     "name": "stdout",
     "output_type": "stream",
     "text": [
      "Function of Class B\n"
     ]
    }
   ],
   "source": [
    "c.funcB()"
   ]
  },
  {
   "cell_type": "code",
   "execution_count": 24,
   "id": "c1cd4434-9311-4f43-b725-45e6dadf109a",
   "metadata": {},
   "outputs": [
    {
     "name": "stdout",
     "output_type": "stream",
     "text": [
      "Function of Class A\n"
     ]
    }
   ],
   "source": [
    "c.funcA()"
   ]
  },
  {
   "cell_type": "code",
   "execution_count": 25,
   "id": "4019b8bc-2866-4b6b-8231-1c758fa1b1ef",
   "metadata": {},
   "outputs": [],
   "source": [
    "# 4.Hierarchical Inheritance:\n",
    "# If multiple derived classes are created from the same base, this kind of Inheritance is known as hierarchical inheritance.\n",
    "# In this instance, we have two base classes as a parent (base) class as well as two children (derived) classes."
   ]
  },
  {
   "cell_type": "code",
   "execution_count": 2,
   "id": "070de86e-734f-46b8-878e-ab90e8e1452b",
   "metadata": {},
   "outputs": [],
   "source": [
    "#Example of Hierarchical Inheritance\n",
    "class A:\n",
    "    def funcA(self):\n",
    "        print(\"Function of Class A\")\n",
    "class B(A):\n",
    "    def funcB(self):\n",
    "        print(\"Function of Class B\")\n",
    "class C(A):\n",
    "    def funcC(self):\n",
    "        print(\"Function of Class C\")\n",
    "    "
   ]
  },
  {
   "cell_type": "code",
   "execution_count": 3,
   "id": "f67af959-baf2-4795-83da-b0734112d6fe",
   "metadata": {},
   "outputs": [],
   "source": [
    "c=C()\n",
    "b=B()"
   ]
  },
  {
   "cell_type": "code",
   "execution_count": 4,
   "id": "7a6336f9-cee8-4e7d-97d1-1b744e6847cf",
   "metadata": {},
   "outputs": [
    {
     "name": "stdout",
     "output_type": "stream",
     "text": [
      "Function of Class A\n"
     ]
    }
   ],
   "source": [
    "c.funcA()"
   ]
  },
  {
   "cell_type": "code",
   "execution_count": 5,
   "id": "b9742505-4baa-4ea2-84fa-768c7e86993b",
   "metadata": {},
   "outputs": [
    {
     "name": "stdout",
     "output_type": "stream",
     "text": [
      "Function of Class A\n"
     ]
    }
   ],
   "source": [
    "b.funcA()"
   ]
  },
  {
   "cell_type": "code",
   "execution_count": null,
   "id": "185420cf-c4da-468f-a5ad-1dc7927c4976",
   "metadata": {},
   "outputs": [],
   "source": []
  }
 ],
 "metadata": {
  "kernelspec": {
   "display_name": "Python 3 (ipykernel)",
   "language": "python",
   "name": "python3"
  },
  "language_info": {
   "codemirror_mode": {
    "name": "ipython",
    "version": 3
   },
   "file_extension": ".py",
   "mimetype": "text/x-python",
   "name": "python",
   "nbconvert_exporter": "python",
   "pygments_lexer": "ipython3",
   "version": "3.10.8"
  }
 },
 "nbformat": 4,
 "nbformat_minor": 5
}
